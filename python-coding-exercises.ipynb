{
 "cells": [
  {
   "cell_type": "markdown",
   "id": "7d4ca51e",
   "metadata": {},
   "source": [
    "# Python Coding Exercises"
   ]
  },
  {
   "cell_type": "markdown",
   "id": "c62a43d7",
   "metadata": {},
   "source": [
    "### Binary Gap\n",
    "\n",
    "A function that, given a positive integer N, returns the length of the longest sequence of consecutive zeros surrounded by ones at both ends of the binary representation of N. The function should return 0 if N doesn't contain a binary gap."
   ]
  },
  {
   "cell_type": "code",
   "execution_count": 1,
   "id": "9db20a47",
   "metadata": {},
   "outputs": [],
   "source": [
    "def solution(N):\n",
    "    b = bin(N).replace('0b', '')\n",
    "    return len(max(b.strip('0').split('1')))"
   ]
  },
  {
   "cell_type": "markdown",
   "id": "6358282f",
   "metadata": {},
   "source": [
    "### Distinct\n",
    "\n",
    "Write a function that returns the number of distinct values in an array A. Assume that each element of the array is an integer within the range [−1,000,000:1,000,000]."
   ]
  },
  {
   "cell_type": "code",
   "execution_count": 2,
   "id": "60335d24",
   "metadata": {},
   "outputs": [],
   "source": [
    "def solution(A):\n",
    "    num_dic = {}\n",
    "    for i in A:\n",
    "        if i in num_dic:\n",
    "            num_dic[i] += 1\n",
    "        else:\n",
    "            num_dic[i] = 1\n",
    "    \n",
    "    counter = 0\n",
    "    for i in num_dic:\n",
    "        counter += 1\n",
    "\n",
    "    return counter"
   ]
  }
 ],
 "metadata": {
  "kernelspec": {
   "display_name": "Python 3",
   "language": "python",
   "name": "python3"
  },
  "language_info": {
   "codemirror_mode": {
    "name": "ipython",
    "version": 3
   },
   "file_extension": ".py",
   "mimetype": "text/x-python",
   "name": "python",
   "nbconvert_exporter": "python",
   "pygments_lexer": "ipython3",
   "version": "3.7.10"
  }
 },
 "nbformat": 4,
 "nbformat_minor": 5
}
